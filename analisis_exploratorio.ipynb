{
 "cells": [
  {
   "cell_type": "code",
   "execution_count": 1,
   "id": "7ab8ec1f",
   "metadata": {},
   "outputs": [],
   "source": [
    "import pandas as pd"
   ]
  },
  {
   "cell_type": "code",
   "execution_count": 2,
   "id": "928f1771",
   "metadata": {},
   "outputs": [
    {
     "name": "stdout",
     "output_type": "stream",
     "text": [
      "              id                                              title     price  \\\n",
      "0  MLA1448342367  Google Nest Mini Nest Mini 2nd Gen Con Asisten...  129990.0   \n",
      "1  MLA1135498793  Google Home Mini Con Asistente Virtual Google ...   99990.0   \n",
      "2  MLA1616758962  Google Home Asistente Virtual Google Assistant...  119990.0   \n",
      "3  MLA1426601681  Google Nest Hub 2nd Gen Con Asistente Virtual ...  224437.0   \n",
      "4  MLA1398793543  Google Home Mini Con Asistente Virtual Google ...   69990.0   \n",
      "\n",
      "  condition category_id currency_id  \n",
      "0       new   MLA409415         ARS  \n",
      "1       new   MLA409415         ARS  \n",
      "2       new   MLA409415         ARS  \n",
      "3       new   MLA409415         ARS  \n",
      "4       new   MLA409415         ARS  \n",
      "              price\n",
      "count  3.350000e+02\n",
      "mean   1.997108e+05\n",
      "std    1.216438e+06\n",
      "min    4.999000e+03\n",
      "25%    7.000000e+04\n",
      "50%    9.479900e+04\n",
      "75%    1.268921e+05\n",
      "max    2.222222e+07\n"
     ]
    }
   ],
   "source": [
    "# Cargar el archivo CSV\n",
    "df = pd.read_csv('detalles_items.csv')\n",
    "\n",
    "# Mostrar las primeras filas del DataFrame\n",
    "print(df.head())\n",
    "\n",
    "# Resumen estadístico de los datos\n",
    "print(df.describe())"
   ]
  },
  {
   "cell_type": "code",
   "execution_count": 3,
   "id": "f4332547",
   "metadata": {},
   "outputs": [],
   "source": [
    "#Verificamos datos faltantes"
   ]
  },
  {
   "cell_type": "code",
   "execution_count": 4,
   "id": "dbfbe48b",
   "metadata": {},
   "outputs": [
    {
     "name": "stdout",
     "output_type": "stream",
     "text": [
      "id             0\n",
      "title          0\n",
      "price          0\n",
      "condition      0\n",
      "category_id    0\n",
      "currency_id    0\n",
      "dtype: int64\n"
     ]
    }
   ],
   "source": [
    "print(df.isnull().sum())"
   ]
  },
  {
   "cell_type": "code",
   "execution_count": 5,
   "id": "115609e1",
   "metadata": {},
   "outputs": [],
   "source": [
    "#Histograma de la distribución de precios"
   ]
  },
  {
   "cell_type": "code",
   "execution_count": 6,
   "id": "c1595d90",
   "metadata": {},
   "outputs": [
    {
     "data": {
      "image/png": "[encoded data removed]",
      "text/plain": [
       "<Figure size 640x480 with 1 Axes>"
      ]
     },
     "metadata": {},
     "output_type": "display_data"
    }
   ],
   "source": [
    "import matplotlib.pyplot as plt\n",
    "\n",
    "plt.hist(df['price'], bins=20)\n",
    "plt.title('Distribución de precios')\n",
    "plt.xlabel('Precio')\n",
    "plt.ylabel('Frecuencia')\n",
    "plt.show()"
   ]
  },
  {
   "cell_type": "code",
   "execution_count": null,
   "id": "731ef0f4",
   "metadata": {},
   "outputs": [],
   "source": []
  }
 ],
 "metadata": {
  "kernelspec": {
   "display_name": "Python 3 (ipykernel)",
   "language": "python",
   "name": "python3"
  },
  "language_info": {
   "codemirror_mode": {
    "name": "ipython",
    "version": 3
   },
   "file_extension": ".py",
   "mimetype": "text/x-python",
   "name": "python",
   "nbconvert_exporter": "python",
   "pygments_lexer": "ipython3",
   "version": "3.9.13"
  }
 },
 "nbformat": 4,
 "nbformat_minor": 5
}
